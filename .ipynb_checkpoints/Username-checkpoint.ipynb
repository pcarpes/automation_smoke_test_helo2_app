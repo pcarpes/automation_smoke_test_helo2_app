{
 "cells": [
  {
   "cell_type": "code",
   "execution_count": 3,
   "id": "33cb07fa-be37-4408-baeb-321518cea925",
   "metadata": {},
   "outputs": [],
   "source": [
    "class Username:\n",
    "    def __init__(self):\n",
    "        self.username = \"pedro.carpes+demo@si.team\"\n",
    "        self.password = \"3}^4ZTMZL=.3!0C>]?]P\"\n"
   ]
  },
  {
   "cell_type": "code",
   "execution_count": null,
   "id": "e5828214-1ed0-4ded-a3e7-7e4d14b170e7",
   "metadata": {},
   "outputs": [],
   "source": []
  },
  {
   "cell_type": "code",
   "execution_count": null,
   "id": "ec94504a-3b4e-4b84-8eee-8f70cd53f534",
   "metadata": {},
   "outputs": [],
   "source": []
  }
 ],
 "metadata": {
  "kernelspec": {
   "display_name": "Python 3 (ipykernel)",
   "language": "python",
   "name": "python3"
  },
  "language_info": {
   "codemirror_mode": {
    "name": "ipython",
    "version": 3
   },
   "file_extension": ".py",
   "mimetype": "text/x-python",
   "name": "python",
   "nbconvert_exporter": "python",
   "pygments_lexer": "ipython3",
   "version": "3.11.7"
  }
 },
 "nbformat": 4,
 "nbformat_minor": 5
}
